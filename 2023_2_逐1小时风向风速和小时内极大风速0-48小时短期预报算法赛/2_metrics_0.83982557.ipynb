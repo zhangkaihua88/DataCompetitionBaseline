{
 "cells": [
  {
   "cell_type": "code",
   "execution_count": 1,
   "metadata": {},
   "outputs": [],
   "source": [
    "import numpy as np\n",
    "import pandas as pd\n",
    "import os\n",
    "from sklearn.metrics import confusion_matrix"
   ]
  },
  {
   "cell_type": "code",
   "execution_count": 2,
   "metadata": {},
   "outputs": [],
   "source": [
    "spd_bins = [0, 5.5, 8, 10.8, 13.9, 17.2, 9999]\n",
    "spd_labels = [1, 2, 3, 4, 5, 6]\n",
    "max_bins = [0, 8, 10.8, 13.9, 17.2, 20.8, 9999]\n",
    "max_labels = [1, 2, 3, 4, 5, 6]\n",
    "weight = [0.05, 0.05, 0.15, 0.15, 0.25, 0.35]"
   ]
  },
  {
   "cell_type": "code",
   "execution_count": 3,
   "metadata": {},
   "outputs": [],
   "source": [
    "def TS_score(true, pred, bins, labels, weight):\n",
    "    true = pd.cut(x=true, bins=bins, labels=labels, include_lowest=True, right=False)\n",
    "    pred = pd.cut(x=pred, bins=bins, labels=labels, include_lowest=True, right=False)\n",
    "    TS = []\n",
    "    for label in spd_labels:\n",
    "        item_confusion = pd.DataFrame(confusion_matrix(true==label, pred==label))\n",
    "        NA = item_confusion.loc[1,1]\n",
    "        NB = item_confusion.loc[0,1]\n",
    "        NC = item_confusion.loc[1,0]\n",
    "        if NA+NB+NC == 0:\n",
    "            item_TS = 0\n",
    "        else:\n",
    "            item_TS = NA/(NA+NB+NC)\n",
    "        TS.append(item_TS)\n",
    "    return np.multiply(np.array(weight), np.array(TS)).sum()"
   ]
  },
  {
   "cell_type": "code",
   "execution_count": 4,
   "metadata": {},
   "outputs": [],
   "source": [
    "def AC_score(train_oof):\n",
    "    bins = [0, 22.5, 67.5, 112.5, 157.5, 202.5, 247.5, 292.5, 337.5, 9999]\n",
    "    labels = ['N', 'NE', 'E', 'SE', 'S', 'SW', 'W', 'NW', 'N']\n",
    "    true = pd.cut(x=train_oof['wdir_2min_true'], bins=bins, labels=labels, include_lowest=True, right=True, ordered=False).astype('object')\n",
    "    pred = pd.cut(x=train_oof['wdir_2min_pred'], bins=bins, labels=labels, include_lowest=True, right=True, ordered=False).astype('object')\n",
    "    idx = train_oof['spd_2min_true']<=0.2\n",
    "    true[idx] = 'C'\n",
    "    idx = train_oof['spd_2min_pred']<=0.2\n",
    "    pred[idx] = 'C'\n",
    "    results = true==pred\n",
    "    results[true=='C'] = True\n",
    "    return results.mean()*100"
   ]
  },
  {
   "cell_type": "code",
   "execution_count": 5,
   "metadata": {},
   "outputs": [],
   "source": [
    "def B_score(true, pred, thres):\n",
    "    true = true >= thres\n",
    "    pred = pred >= thres\n",
    "    confusion = pd.DataFrame(confusion_matrix(true, pred))\n",
    "    NA = confusion.loc[1,1]\n",
    "    NB = confusion.loc[0,1]\n",
    "    NC = confusion.loc[1,0]\n",
    "    if NA+NB+NC == 0:\n",
    "        B=1\n",
    "    elif (NA+NB == 0) & (NC!=0):\n",
    "        B=0\n",
    "    elif (NA+NC == 0) & (NB!=0):\n",
    "        B=0\n",
    "    else:\n",
    "        B = np.exp(-np.abs(np.log((NA+NB)/(NA+NC))))\n",
    "    return B"
   ]
  },
  {
   "cell_type": "code",
   "execution_count": 6,
   "metadata": {},
   "outputs": [],
   "source": [
    "train_oof = pd.read_csv(os.path.join('results', f'lgb_oof_0.csv'))\n",
    "test_pred = pd.read_csv(os.path.join('results', f'lgb_pre_0.csv'))\n",
    "# train_oof columns: ID, wdir_2min_true, wdir_2min_pred, spd_2min_true, spd_2min_pred, spd_inst_max_true, spd_inst_max_pred\n",
    "# test_pred columns: ID, wdir_2min, spd_2min, spd_inst_max\n",
    "\n",
    "train_oof['group'] = train_oof['ID'].apply(lambda x: ''.join(x.split('_')[:-1]))\n",
    "train_oof['time'] = train_oof['ID'].apply(lambda x: int(x.split('_')[-1]))\n",
    "train_oof = train_oof.sort_values(['group', 'time']).reset_index(drop=True)"
   ]
  },
  {
   "cell_type": "code",
   "execution_count": 7,
   "metadata": {},
   "outputs": [],
   "source": [
    "train_oof_max = train_oof.copy(deep=True)\n",
    "train_oof_max['time'] = (train_oof_max.time-1)//24\n",
    "train_oof_max = train_oof.groupby(['group', 'time']).max()\n",
    "train_oof_max.reset_index(drop=True, inplace=True)"
   ]
  },
  {
   "cell_type": "code",
   "execution_count": 8,
   "metadata": {},
   "outputs": [],
   "source": [
    "TS1h_mean = TS_score(train_oof['spd_2min_true'], train_oof['spd_2min_pred'], spd_bins, spd_labels, weight)\n",
    "TS1h_max = TS_score(train_oof['spd_inst_max_true'], train_oof['spd_inst_max_pred'], max_bins, max_labels, weight)\n",
    "TS24h_mean = TS_score(train_oof_max['spd_2min_true'], train_oof_max['spd_2min_pred'], spd_bins, spd_labels, weight)\n",
    "TS24h_max = TS_score(train_oof_max['spd_inst_max_true'], train_oof_max['spd_inst_max_pred'], max_bins, max_labels, weight)\n",
    "AC1h = AC_score(train_oof)\n",
    "B_mean = B_score(train_oof['spd_2min_true'], train_oof['spd_2min_pred'], 13.9)\n",
    "B_max = B_score(train_oof['spd_inst_max_true'], train_oof['spd_inst_max_pred'], 20.8)"
   ]
  },
  {
   "cell_type": "code",
   "execution_count": 9,
   "metadata": {},
   "outputs": [
    {
     "data": {
      "text/plain": [
       "3.8833922089614896"
      ]
     },
     "execution_count": 9,
     "metadata": {},
     "output_type": "execute_result"
    }
   ],
   "source": [
    "score = (TS24h_mean-0.12)/0.04*0.24 + (TS24h_max-0.19)/0.1*0.24 \\\n",
    "        + (TS1h_mean-0.11)/0.03*0.135 + (TS1h_max-0.17)/0.07*0.135 \\\n",
    "        + (AC1h-50.18)/5.21*0.05 \\\n",
    "        + (B_mean-0.2)/0.27*0.1 + (B_max-0.22)/0.3*0.1\n",
    "score"
   ]
  },
  {
   "cell_type": "code",
   "execution_count": null,
   "metadata": {},
   "outputs": [],
   "source": []
  },
  {
   "cell_type": "code",
   "execution_count": null,
   "metadata": {},
   "outputs": [],
   "source": []
  }
 ],
 "metadata": {
  "kernelspec": {
   "display_name": "Python 3.8.11 ('AL')",
   "language": "python",
   "name": "python3"
  },
  "language_info": {
   "codemirror_mode": {
    "name": "ipython",
    "version": 3
   },
   "file_extension": ".py",
   "mimetype": "text/x-python",
   "name": "python",
   "nbconvert_exporter": "python",
   "pygments_lexer": "ipython3",
   "version": "3.8.11"
  },
  "orig_nbformat": 4,
  "vscode": {
   "interpreter": {
    "hash": "82785e3617b41da40eac9dc72b5795aea1d455d121b27bd2aa7c1fc59bb3871c"
   }
  }
 },
 "nbformat": 4,
 "nbformat_minor": 2
}
